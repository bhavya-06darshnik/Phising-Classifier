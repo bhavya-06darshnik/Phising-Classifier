{
 "cells": [
  {
   "cell_type": "code",
   "execution_count": 1,
   "id": "2f4eb68a-e81e-4c83-8d10-36e67098b3d7",
   "metadata": {},
   "outputs": [
    {
     "name": "stdout",
     "output_type": "stream",
     "text": [
      "Requirement already satisfied: database_connect in d:\\phising-classifier\\env\\lib\\site-packages (0.1.673)\n",
      "Requirement already satisfied: cassandra-driver==3.29.0 in d:\\phising-classifier\\env\\lib\\site-packages (from database_connect) (3.29.0)\n",
      "Requirement already satisfied: ensure==1.0.4 in d:\\phising-classifier\\env\\lib\\site-packages (from database_connect) (1.0.4)\n",
      "Requirement already satisfied: pandas==2.0.3 in d:\\phising-classifier\\env\\lib\\site-packages (from database_connect) (2.0.3)\n",
      "Requirement already satisfied: pymongo==4.6.1 in d:\\phising-classifier\\env\\lib\\site-packages (from database_connect) (4.6.1)\n",
      "Requirement already satisfied: geomet<0.3,>=0.1 in d:\\phising-classifier\\env\\lib\\site-packages (from cassandra-driver==3.29.0->database_connect) (0.2.1.post1)\n",
      "Requirement already satisfied: six>=1.11.0 in d:\\phising-classifier\\env\\lib\\site-packages (from ensure==1.0.4->database_connect) (1.16.0)\n",
      "Requirement already satisfied: python-dateutil>=2.8.2 in d:\\phising-classifier\\env\\lib\\site-packages (from pandas==2.0.3->database_connect) (2.9.0.post0)\n",
      "Requirement already satisfied: pytz>=2020.1 in d:\\phising-classifier\\env\\lib\\site-packages (from pandas==2.0.3->database_connect) (2024.1)\n",
      "Requirement already satisfied: tzdata>=2022.1 in d:\\phising-classifier\\env\\lib\\site-packages (from pandas==2.0.3->database_connect) (2024.1)\n",
      "Requirement already satisfied: numpy>=1.20.3 in d:\\phising-classifier\\env\\lib\\site-packages (from pandas==2.0.3->database_connect) (1.24.4)\n",
      "Requirement already satisfied: dnspython<3.0.0,>=1.16.0 in d:\\phising-classifier\\env\\lib\\site-packages (from pymongo==4.6.1->database_connect) (2.6.1)\n",
      "Requirement already satisfied: click in d:\\phising-classifier\\env\\lib\\site-packages (from geomet<0.3,>=0.1->cassandra-driver==3.29.0->database_connect) (8.1.7)\n",
      "Requirement already satisfied: colorama in d:\\phising-classifier\\env\\lib\\site-packages (from click->geomet<0.3,>=0.1->cassandra-driver==3.29.0->database_connect) (0.4.6)\n"
     ]
    }
   ],
   "source": [
    "!pip install database_connect"
   ]
  },
  {
   "cell_type": "code",
   "execution_count": 2,
   "id": "baf113d4-dbd5-4611-bcd4-a1c7be67d8b1",
   "metadata": {},
   "outputs": [
    {
     "name": "stdout",
     "output_type": "stream",
     "text": [
      "database_connect 0.1.673\n"
     ]
    }
   ],
   "source": [
    "!pip list | grep database_connect\n"
   ]
  },
  {
   "cell_type": "code",
   "execution_count": 1,
   "id": "ca977055-0cdf-4d72-8e43-5c3c4f3e5cb9",
   "metadata": {},
   "outputs": [],
   "source": [
    "import os\n",
    "from database_connect.databases.mongodb import MongoIO as mongo\n"
   ]
  },
  {
   "cell_type": "code",
   "execution_count": null,
   "id": "ad60cbda-a2ec-4b25-9fab-790d78fbdf3d",
   "metadata": {},
   "outputs": [],
   "source": []
  }
 ],
 "metadata": {
  "kernelspec": {
   "display_name": "Python 3 (ipykernel)",
   "language": "python",
   "name": "python3"
  },
  "language_info": {
   "codemirror_mode": {
    "name": "ipython",
    "version": 3
   },
   "file_extension": ".py",
   "mimetype": "text/x-python",
   "name": "python",
   "nbconvert_exporter": "python",
   "pygments_lexer": "ipython3",
   "version": "3.8.19"
  }
 },
 "nbformat": 4,
 "nbformat_minor": 5
}
